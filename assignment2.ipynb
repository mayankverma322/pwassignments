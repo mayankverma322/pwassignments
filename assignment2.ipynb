{
 "cells": [
  {
   "cell_type": "code",
   "execution_count": 2,
   "metadata": {},
   "outputs": [
    {
     "name": "stdout",
     "output_type": "stream",
     "text": [
      "Sorted List: [('Virat Kohli', 24936), ('Jack Kallis', 25534), ('Ricky Ponting', 27483), ('Sachin Tendulkar', 34357)]\n",
      "Squared Numbers: [1, 4, 9, 16, 25, 36, 49, 64, 81, 100]\n",
      "String Tuple: ('1', '2', '3', '4', '5', '6', '7', '8', '9', '10')\n",
      "Product: 15511210043330985984000000\n",
      "Filtered Numbers: [6, 60, 90, 120]\n",
      "Palindromes: ['php', 'aba', 'radar', 'level']\n"
     ]
    }
   ],
   "source": [
    "\n",
    "# Q1. Sort the given list of tuples based on integer value using a lambda function.\n",
    "data = [('Sachin Tendulkar', 34357), ('Ricky Ponting', 27483), ('Jack Kallis', 25534), ('Virat Kohli', 24936)]\n",
    "\n",
    "sorted_data = sorted(data, key=lambda x: x[1])\n",
    "print(\"Sorted List:\", sorted_data)\n",
    "\n",
    "# Q2. Find the squares of all the numbers in the given list of integers using lambda and map functions.\n",
    "numbers = [1, 2, 3, 4, 5, 6, 7, 8, 9, 10]\n",
    "\n",
    "squared_numbers = list(map(lambda x: x**2, numbers))\n",
    "print(\"Squared Numbers:\", squared_numbers)\n",
    "\n",
    "# Q3. Convert the given list of integers into a tuple of strings using map and lambda functions.\n",
    "integer_list = [1, 2, 3, 4, 5, 6, 7, 8, 9, 10]\n",
    "\n",
    "string_tuple = tuple(map(lambda x: str(x), integer_list))\n",
    "print(\"String Tuple:\", string_tuple)\n",
    "\n",
    "# Q4. Compute the product of a list containing numbers from 1 to 25 using reduce function.\n",
    "numbers_list = list(range(1, 26))\n",
    "\n",
    "from functools import reduce\n",
    "product = reduce(lambda x, y: x*y, numbers_list)\n",
    "print(\"Product:\", product)\n",
    "\n",
    "# Q5. Filter the numbers in a given list that are divisible by 2 and 3 using the filter function.\n",
    "numbers_list = [2, 3, 6, 9, 27, 60, 90, 120, 55, 46]\n",
    "\n",
    "filtered_numbers = list(filter(lambda x: x % 2 == 0 and x % 3 == 0, numbers_list))\n",
    "print(\"Filtered Numbers:\", filtered_numbers)\n",
    "\n",
    "# Q6. Find palindromes in the given list of strings using lambda and filter function.\n",
    "strings_list = ['python', 'php', 'aba', 'radar', 'level']\n",
    "\n",
    "palindromes = list(filter(lambda x: x == x[::-1], strings_list))\n",
    "print(\"Palindromes:\", palindromes)"
   ]
  },
  {
   "cell_type": "code",
   "execution_count": null,
   "metadata": {},
   "outputs": [],
   "source": []
  }
 ],
 "metadata": {
  "kernelspec": {
   "display_name": "Python 3",
   "language": "python",
   "name": "python3"
  },
  "language_info": {
   "codemirror_mode": {
    "name": "ipython",
    "version": 3
   },
   "file_extension": ".py",
   "mimetype": "text/x-python",
   "name": "python",
   "nbconvert_exporter": "python",
   "pygments_lexer": "ipython3",
   "version": "3.10.11"
  },
  "orig_nbformat": 4
 },
 "nbformat": 4,
 "nbformat_minor": 2
}
